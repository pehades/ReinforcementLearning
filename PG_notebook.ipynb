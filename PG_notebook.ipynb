{
 "cells": [
  {
   "cell_type": "code",
   "execution_count": 1,
   "metadata": {},
   "outputs": [],
   "source": [
    "%matplotlib inline\n",
    "import numpy as np\n",
    "import matplotlib.pyplot as plt\n",
    "\n",
    "import torch\n",
    "import torch.nn as nn\n",
    "import torch.optim as optim\n",
    "import torch.nn.functional as F\n",
    "\n",
    "import gym"
   ]
  },
  {
   "cell_type": "code",
   "execution_count": 2,
   "metadata": {},
   "outputs": [],
   "source": [
    "class policy_net(nn.Module):\n",
    "    \n",
    "    def __init__(self, env, layers = 16):\n",
    "        super().__init__()\n",
    "        self.env = env\n",
    "        self.S = env.observation_space.shape[0]\n",
    "        self.A = env.action_space.n\n",
    "        self.fc1 = nn.Linear(self.S, layers)\n",
    "        self.fc2 = nn.Linear(layers, self.A)\n",
    "        \n",
    "    def forward(self, x):\n",
    "        out1 = F.relu(self.fc1(x))\n",
    "        out2 = F.softmax(self.fc2(out1), dim = 1)\n",
    "        return torch.squeeze(out2)     #in case we take a single input of size (1, S), to make it just of size A\n",
    "\n",
    "class baseline_net(nn.Module):\n",
    "    \n",
    "    def __init__(self, env, layers = 16):\n",
    "        super().__init__()\n",
    "        self.env = env\n",
    "        self.S = env.observation_space.shape[0]\n",
    "        self.fc1 = nn.Linear(self.S, layers)\n",
    "        self.fc2 = nn.Linear(layers, 1)\n",
    "        \n",
    "    def forward(self, x):\n",
    "        out1 = F.relu(self.fc1(x))\n",
    "        out2 = self.fc2(out1)\n",
    "        return torch.squeeze(out2)   #in case we take a single input of size (1, S), to make it just of size 1"
   ]
  },
  {
   "cell_type": "code",
   "execution_count": 3,
   "metadata": {},
   "outputs": [],
   "source": [
    "class PG():\n",
    "    \n",
    "    def __init__(self, env, policy_layers, baseline_layers, gamma):\n",
    "        self.env = env\n",
    "        self.S = env.observation_space.shape[0]\n",
    "        self.A = env.action_space.n\n",
    "        self.policy_net = policy_net(env, policy_layers)\n",
    "        self.baseline_net = baseline_net(env, baseline_layers)\n",
    "        self.gamma = gamma\n",
    "    \n",
    "    def transform_rewards(self, rewards, gamma):\n",
    "        '''It takes a list of rewards, rewards = [r1, r2,..., rT] and a gamma\n",
    "        and transforms it to G with\n",
    "        G1 = r1 + gamma*r2 + ... + gamma^{T-1}rT\n",
    "        G2 = r2 + gamma*r3 + ... + gamma^{T-2}rT etc.\n",
    "        Finally it returns this list'''\n",
    "        \n",
    "        T = len(rewards)\n",
    "        \n",
    "        for i in range(T-1, -1, -1):\n",
    "            if i < T-1:\n",
    "                rewards[i] = rewards[i] + gamma * rewards[i+1]\n",
    "        return rewards\n",
    "    \n",
    "    def act(self, s):\n",
    "        '''Takes a point s of the action space S and calculates policy_net(s).\n",
    "        Then from the A-points (a1,...,aA) that sum to 1, samples one point \n",
    "        according to the distribution.\n",
    "        Then it returns the chosen index, together with the value of the network computed on this index.'''\n",
    "        output = self.policy_net(s.view(1, self.S))\n",
    "        action = torch.multinomial(output, 1)\n",
    "        return action, output[action]\n",
    "    \n",
    "    def train(self, iterations, episode_length, m_samples = 1, learning_rate = 0.001):\n",
    "        '''It trains for iterations- times and each episode last episode_length- episodes.\n",
    "        m_sample is the number we use to approximate the mean value'''\n",
    "        rewards_history = []\n",
    "        policy_opt = torch.optim.Adam(self.policy_net.parameters(), lr = learning_rate)\n",
    "        baseline_opt = torch.optim.Adam(self.baseline_net.parameters(), lr = learning_rate)\n",
    "        \n",
    "        for iteration in range(iterations):\n",
    "            G = torch.zeros((m_samples, episode_length))\n",
    "            Baselines = torch.zeros((m_samples, episode_length))\n",
    "            log_policies = torch.zeros((m_samples, episode_length))\n",
    "            \n",
    "            for m in range(m_samples):\n",
    "                s = torch.tensor(self.env.reset(), dtype = torch.float32)\n",
    "            \n",
    "                for episode in range(episode_length):\n",
    "                    a, net_value = self.act(s)\n",
    "                    obs, reward, done, _ = self.env.step(int(np.array(a)))\n",
    "                    G[m][episode] = torch.tensor(reward, dtype = torch.float32)\n",
    "                    Baselines[m][episode] = self.baseline_net(s.view(1, self.S))\n",
    "                    log_policies[m][episode] = torch.log(net_value)\n",
    "                \n",
    "                    s = torch.tensor(obs, dtype = torch.float32)\n",
    "                   # print(done)\n",
    "                    if done :\n",
    "                        break\n",
    "                        \n",
    "                #Normalize, and then transform the rewards.\n",
    "         #       G[m] = (G[m] - G[m].mean())/G[m].std()  \n",
    "                G[m] = self.transform_rewards(G[m], self.gamma)\n",
    "                #G[m] = (G[m] - G[m].mean())/G[m].std()  \n",
    "            \n",
    "            #In loss_1 I put the - because I want to take a step in the opposite direction\n",
    "            #More precicely I want to maximize the expected reward, i.e. minimize - expected reward\n",
    "        \n",
    "            loss_1 = -((G - Baselines) * log_policies).sum()\n",
    "            loss_2 =  ((G - Baselines) ** 2).sum()\n",
    "            \n",
    "            self.policy_net.zero_grad()\n",
    "            policy_opt.zero_grad()\n",
    "          \n",
    "            loss_1.backward(retain_graph = True)\n",
    "            policy_opt.step()\n",
    "                        \n",
    "            self.baseline_net.zero_grad()\n",
    "            baseline_opt.zero_grad()\n",
    "            loss_2.backward()\n",
    "            baseline_opt.step()\n",
    "            \n",
    "            rewards_history.append(int(np.array(G.sum(dim = 1).mean())))\n",
    "        \n",
    "        return self.policy_net, self.baseline_net, rewards_history                                          "
   ]
  },
  {
   "cell_type": "code",
   "execution_count": 4,
   "metadata": {},
   "outputs": [
    {
     "name": "stdout",
     "output_type": "stream",
     "text": [
      "CPU times: user 28min 30s, sys: 54.5 s, total: 29min 24s\n",
      "Wall time: 14min 44s\n"
     ]
    }
   ],
   "source": [
    "%%time\n",
    "env = gym.make('LunarLander-v2')\n",
    "env.reset()\n",
    "\n",
    "pg = PG(env, 128, 128, 0.99)\n",
    "policy_network, baseline_network, rewards = pg.train(5000, 200, 1, 0.001)"
   ]
  },
  {
   "cell_type": "code",
   "execution_count": 5,
   "metadata": {},
   "outputs": [
    {
     "data": {
      "text/plain": [
       "[<matplotlib.lines.Line2D at 0x7f02a50129d0>]"
      ]
     },
     "execution_count": 5,
     "metadata": {},
     "output_type": "execute_result"
    },
    {
     "data": {
      "image/png": "[encoded data removed]",
      "text/plain": [
       "<Figure size 432x288 with 1 Axes>"
      ]
     },
     "metadata": {
      "needs_background": "light"
     },
     "output_type": "display_data"
    }
   ],
   "source": [
    "plt.plot(rewards)"
   ]
  },
  {
   "cell_type": "code",
   "execution_count": 7,
   "metadata": {},
   "outputs": [
    {
     "data": {
      "text/plain": [
       "141.3371170909395"
      ]
     },
     "execution_count": 7,
     "metadata": {},
     "output_type": "execute_result"
    }
   ],
   "source": [
    "env_to_wrap = gym.make('LunarLander-v2')\n",
    "env = gym.wrappers.Monitor(env_to_wrap, 'video_file_1', force = True)\n",
    "\n",
    "s = torch.tensor(env.reset(), dtype = torch.float32).view(1,8)\n",
    "rewards = 0\n",
    "for t in range(200):\n",
    "    output = policy_network(s)\n",
    "    action = int(np.array(torch.multinomial(output, 1)))\n",
    "    #action = env.action_space.sample()\n",
    "    obs, rew, done, _ = env.step(action)\n",
    "    rewards += rew\n",
    "    if done:\n",
    "        print(t)\n",
    "        break\n",
    "    s = torch.tensor(obs, dtype = torch.float32).view(1,8)\n",
    "    env.render()\n",
    "    \n",
    "env.close()\n",
    "env_to_wrap.close()\n",
    "rewards"
   ]
  },
  {
   "cell_type": "code",
   "execution_count": null,
   "metadata": {},
   "outputs": [],
   "source": []
  },
  {
   "cell_type": "code",
   "execution_count": null,
   "metadata": {},
   "outputs": [],
   "source": []
  }
 ],
 "metadata": {
  "kernelspec": {
   "display_name": "Python 3",
   "language": "python",
   "name": "python3"
  },
  "language_info": {
   "codemirror_mode": {
    "name": "ipython",
    "version": 3
   },
   "file_extension": ".py",
   "mimetype": "text/x-python",
   "name": "python",
   "nbconvert_exporter": "python",
   "pygments_lexer": "ipython3",
   "version": "3.7.4"
  }
 },
 "nbformat": 4,
 "nbformat_minor": 2
}
